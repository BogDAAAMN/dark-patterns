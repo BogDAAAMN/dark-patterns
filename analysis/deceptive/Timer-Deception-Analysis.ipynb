{
 "cells": [
  {
   "cell_type": "markdown",
   "metadata": {},
   "source": [
    "## Generate a CSV for the timer deception analysis\n"
   ]
  },
  {
   "cell_type": "code",
   "execution_count": 22,
   "metadata": {},
   "outputs": [],
   "source": [
    "import binascii\n",
    "from urlparse import urlparse\n",
    "\n",
    "def get_dirname_from_url(url):\n",
    "    hostname = urlparse(url).hostname\n",
    "    checksum = hex(binascii.crc32(url)).split('x')[-1]\n",
    "    return \"%s_%s\" % (hostname, checksum)\n"
   ]
  },
  {
   "cell_type": "code",
   "execution_count": 23,
   "metadata": {},
   "outputs": [],
   "source": [
    "ROOT_TIMER_URL = \"https://darkpatterns.cs.princeton.edu\"\n",
    "page_and_timer_urls = []\n",
    "for l in open(\"../../data/monitoring/urls/timers.csv\"):\n",
    "    page_url = l.rstrip()\n",
    "    dir_name_w_checksum = get_dirname_from_url(page_url)\n",
    "    timer_url_1 = \"%s/%s_timer_run_1.mp4\" % (ROOT_TIMER_URL, dir_name_w_checksum)\n",
    "    timer_url_2 = \"%s/%s_timer_run_2.mp4\" % (ROOT_TIMER_URL, dir_name_w_checksum)\n",
    "    page_and_timer_urls.append((page_url, timer_url_1, timer_url_2))\n",
    "    \n",
    "with open(\"timer_slideshow_urls.csv\", \"a\") as f:\n",
    "    for page_url, timer_url_1, timer_url_2 in page_and_timer_urls:\n",
    "        f.write(\"%s\\t%s\\t%s\\n\" % (page_url, timer_url_1, timer_url_2))\n",
    "    "
   ]
  },
  {
   "cell_type": "code",
   "execution_count": 24,
   "metadata": {},
   "outputs": [
    {
     "name": "stdout",
     "output_type": "stream",
     "text": [
      "http://eyedictive.com/product/arnette-burnout-black-gradient-w-mirror-lens/\thttps://darkpatterns.cs.princeton.edu/eyedictive.com_788ab9c6_timer_run_1.mp4\thttps://darkpatterns.cs.princeton.edu/eyedictive.com_788ab9c6_timer_run_2.mp4\r\n",
      "http://eyedictive.com/product/coach-brown-glitter-geometric-cat-eye/\thttps://darkpatterns.cs.princeton.edu/eyedictive.com_7b4db0af_timer_run_1.mp4\thttps://darkpatterns.cs.princeton.edu/eyedictive.com_7b4db0af_timer_run_2.mp4\r\n",
      "http://eyedictive.com/product/gucci-signature-gold-tone-black-modern-pilot/\thttps://darkpatterns.cs.princeton.edu/eyedictive.com_2f50ccdd_timer_run_1.mp4\thttps://darkpatterns.cs.princeton.edu/eyedictive.com_2f50ccdd_timer_run_2.mp4\r\n",
      "http://eyedictive.com/product/michael-kors-lia-cat-eye-w-red-mirror-lens/\thttps://darkpatterns.cs.princeton.edu/eyedictive.com_38fe222f_timer_run_1.mp4\thttps://darkpatterns.cs.princeton.edu/eyedictive.com_38fe222f_timer_run_2.mp4\r\n",
      "http://eyedictive.com/product/timberland-earthkeepers-polarized-matte-blue-pilot/\thttps://darkpatterns.cs.princeton.edu/eyedictive.com_12032a75_timer_run_1.mp4\thttps://darkpatterns.cs.princeton.edu/eyedictive.com_12032a75_timer_run_2.mp4\r\n",
      "http://halbprix.ch/product/gabor-damen-leder-pumps/\thttps://darkpatterns.cs.princeton.edu/halbprix.ch_7b2e3faf_timer_run_1.mp4\thttps://darkpatterns.cs.princeton.edu/halbprix.ch_7b2e3faf_timer_run_2.mp4\r\n",
      "http://hhokit.ie/kit-hho\thttps://darkpatterns.cs.princeton.edu/hhokit.ie_9b697f2_timer_run_1.mp4\thttps://darkpatterns.cs.princeton.edu/hhokit.ie_9b697f2_timer_run_2.mp4\r\n",
      "http://illpumpyouup.com/blackstone-labs/\thttps://darkpatterns.cs.princeton.edu/illpumpyouup.com_6d7cb2eb_timer_run_1.mp4\thttps://darkpatterns.cs.princeton.edu/illpumpyouup.com_6d7cb2eb_timer_run_2.mp4\r\n",
      "http://illpumpyouup.com/hi-tech/\thttps://darkpatterns.cs.princeton.edu/illpumpyouup.com_4a9f4eae_timer_run_1.mp4\thttps://darkpatterns.cs.princeton.edu/illpumpyouup.com_4a9f4eae_timer_run_2.mp4\r\n",
      "http://lenshero.com/lenses/lens-for-sony-e-full-frame\thttps://darkpatterns.cs.princeton.edu/lenshero.com_4c6073c_timer_run_1.mp4\thttps://darkpatterns.cs.princeton.edu/lenshero.com_4c6073c_timer_run_2.mp4\r\n"
     ]
    }
   ],
   "source": [
    "! head timer*"
   ]
  },
  {
   "cell_type": "code",
   "execution_count": null,
   "metadata": {},
   "outputs": [],
   "source": [
    "! rm"
   ]
  }
 ],
 "metadata": {
  "kernelspec": {
   "display_name": "Python 2",
   "language": "python",
   "name": "python2"
  },
  "language_info": {
   "codemirror_mode": {
    "name": "ipython",
    "version": 2
   },
   "file_extension": ".py",
   "mimetype": "text/x-python",
   "name": "python",
   "nbconvert_exporter": "python",
   "pygments_lexer": "ipython2",
   "version": "2.7.14"
  }
 },
 "nbformat": 4,
 "nbformat_minor": 2
}
