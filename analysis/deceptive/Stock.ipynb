{
 "cells": [
  {
   "cell_type": "code",
   "execution_count": 1,
   "metadata": {},
   "outputs": [],
   "source": [
    "import sqlite3\n",
    "import pandas as pd\n",
    "import re\n",
    "import json\n",
    "import numpy as np\n",
    "import os\n",
    "from os.path import dirname, abspath, join\n",
    "pd.options.display.max_colwidth = 500\n",
    "pd.set_option(\"display.max_rows\", 100000)\n",
    "pd.options.display.html.use_mathjax = False\n"
   ]
  },
  {
   "cell_type": "code",
   "execution_count": 2,
   "metadata": {},
   "outputs": [
    {
     "name": "stdout",
     "output_type": "stream",
     "text": [
      "/home/gacar/dev/dark-patterns/data/monitoring/stock_notifications_crawl/stock_notifications_crawl.sqlite\n"
     ]
    }
   ],
   "source": [
    "DB = \"/home/gacar/dev/dark-patterns/data/monitoring/stock_notifications_crawl/stock_notifications_crawl.sqlite\"\n",
    "print DB\n",
    "con = sqlite3.connect(DB)\n",
    "df = pd.read_sql(\"\"\"\n",
    "SELECT sv.site_url,\n",
    "       sv.visit_id,\n",
    "       se.inner_text,\n",
    "       LOWER(se.inner_text) AS msg\n",
    "  FROM SEGMENTS AS se\n",
    "       LEFT JOIN\n",
    "       site_visits AS sv ON se.visit_id = sv.visit_id\n",
    " WHERE msg LIKE '%high demand%' OR \n",
    "       msg LIKE '%selling fast%' OR \n",
    "       msg LIKE '%hurry%' OR \n",
    "       msg LIKE '%left in stock%' OR \n",
    "       msg LIKE '%only % in stock%' OR \n",
    "       msg LIKE '%only % left%' OR \n",
    "       msg LIKE '% in stock%' OR \n",
    "       msg LIKE '%low stock%' OR \n",
    "       msg LIKE '% left%' OR \n",
    "       msg LIKE '%limited stock%'    \n",
    " GROUP BY sv.site_url, sv.visit_id, se.inner_text\n",
    " ORDER BY sv.site_url DESC\n",
    "\"\"\", con)"
   ]
  },
  {
   "cell_type": "code",
   "execution_count": 3,
   "metadata": {},
   "outputs": [
    {
     "ename": "NameError",
     "evalue": "name 'udf' is not defined",
     "output_type": "error",
     "traceback": [
      "\u001b[0;31m---------------------------------------------------------------------------\u001b[0m",
      "\u001b[0;31mNameError\u001b[0m                                 Traceback (most recent call last)",
      "\u001b[0;32m<ipython-input-3-fe87d691d563>\u001b[0m in \u001b[0;36m<module>\u001b[0;34m()\u001b[0m\n\u001b[0;32m----> 1\u001b[0;31m \u001b[0mudf\u001b[0m\u001b[0;34m[\u001b[0m\u001b[0mudf\u001b[0m\u001b[0;34m.\u001b[0m\u001b[0msite_url\u001b[0m\u001b[0;34m.\u001b[0m\u001b[0mstr\u001b[0m\u001b[0;34m.\u001b[0m\u001b[0mcontains\u001b[0m\u001b[0;34m(\u001b[0m\u001b[0;34m'https://faradayscienceshop.com/collections/van-go-paint-by-number-kits/products/fall-van-go-paint-by-number-kit'\u001b[0m\u001b[0;34m)\u001b[0m\u001b[0;34m]\u001b[0m\u001b[0;34m\u001b[0m\u001b[0m\n\u001b[0m",
      "\u001b[0;31mNameError\u001b[0m: name 'udf' is not defined"
     ]
    }
   ],
   "source": [
    "udf[udf.site_url.str.contains('https://faradayscienceshop.com/collections/van-go-paint-by-number-kits/products/fall-van-go-paint-by-number-kit')]"
   ]
  },
  {
   "cell_type": "code",
   "execution_count": null,
   "metadata": {},
   "outputs": [],
   "source": [
    "df.head()"
   ]
  },
  {
   "cell_type": "code",
   "execution_count": null,
   "metadata": {},
   "outputs": [],
   "source": [
    "print len(df[df.site_url.isna()]), len(df)\n"
   ]
  },
  {
   "cell_type": "code",
   "execution_count": null,
   "metadata": {},
   "outputs": [],
   "source": []
  },
  {
   "cell_type": "code",
   "execution_count": null,
   "metadata": {},
   "outputs": [],
   "source": [
    "df['contains_digit'] = df.inner_text.str.contains('[0-9]+')\n",
    "filtered = df[~df.contains_digit]\n",
    "print len(filtered), len(df)"
   ]
  },
  {
   "cell_type": "code",
   "execution_count": null,
   "metadata": {},
   "outputs": [],
   "source": [
    "grouped = filtered.groupby('site_url')\n",
    "udf = grouped.filter(lambda x: len(set(x['inner_text'].tolist())) > 1)"
   ]
  },
  {
   "cell_type": "code",
   "execution_count": null,
   "metadata": {},
   "outputs": [],
   "source": [
    "len(udf)"
   ]
  },
  {
   "cell_type": "code",
   "execution_count": null,
   "metadata": {},
   "outputs": [],
   "source": [
    "udf.sort_values(['site_url', 'visit_id'], ascending=True)[['visit_id', 'site_url', 'inner_text']]"
   ]
  },
  {
   "cell_type": "code",
   "execution_count": null,
   "metadata": {},
   "outputs": [],
   "source": []
  }
 ],
 "metadata": {
  "kernelspec": {
   "display_name": "Python 2",
   "language": "python",
   "name": "python2"
  },
  "language_info": {
   "codemirror_mode": {
    "name": "ipython",
    "version": 2
   },
   "file_extension": ".py",
   "mimetype": "text/x-python",
   "name": "python",
   "nbconvert_exporter": "python",
   "pygments_lexer": "ipython2",
   "version": "2.7.15rc1"
  }
 },
 "nbformat": 4,
 "nbformat_minor": 2
}
