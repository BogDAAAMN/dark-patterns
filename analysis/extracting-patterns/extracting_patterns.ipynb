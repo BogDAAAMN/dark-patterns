{
 "cells": [
  {
   "cell_type": "markdown",
   "metadata": {},
   "source": [
    "# Crawl Data Analysis: Extracting Patterns\n",
    "\n",
    "This notebook uses more tailored techniques to target specific \"patterns\" we want to extract from the crawl data. The patterns we target here were informed by results of our preliminary clustering approaches, as well as what we manually observed from the sites in our dataset.\n",
    "\n",
    "This notebook is written for Python 2.7 and requires several packages (see the `import`s below). It also assumes it is running on cycles - see the `clustering-initial-analysis/clustering.ipynb` notebook for a reference on how to run Jupyter Notebooks remotely on cycles."
   ]
  },
  {
   "cell_type": "code",
   "execution_count": 1,
   "metadata": {
    "ExecuteTime": {
     "end_time": "2019-02-26T16:01:53.775249Z",
     "start_time": "2019-02-26T16:01:53.015783Z"
    }
   },
   "outputs": [],
   "source": [
    "from __future__ import print_function\n",
    "import matplotlib.pyplot as plt\n",
    "from mpl_toolkits.mplot3d import Axes3D\n",
    "from tqdm import tqdm\n",
    "import numpy as np\n",
    "import os\n",
    "import pandas as pd"
   ]
  },
  {
   "cell_type": "markdown",
   "metadata": {},
   "source": [
    "## Experiment: Runtime of reading from database vs reading from JSON"
   ]
  },
  {
   "cell_type": "markdown",
   "metadata": {},
   "source": [
    "Read from database."
   ]
  },
  {
   "cell_type": "code",
   "execution_count": 2,
   "metadata": {
    "ExecuteTime": {
     "end_time": "2019-02-26T16:02:14.025944Z",
     "start_time": "2019-02-26T16:01:55.016678Z"
    }
   },
   "outputs": [
    {
     "name": "stderr",
     "output_type": "stream",
     "text": [
      "25000it [00:14, 1692.19it/s]\n"
     ]
    }
   ],
   "source": [
    "from urlparse import urlparse\n",
    "import json\n",
    "import sqlite3\n",
    "\n",
    "db = '/n/fs/darkpatterns/final-crawl/webtap/webtap.sqlite'\n",
    "con = sqlite3.connect(db)\n",
    "con.row_factory = sqlite3.Row\n",
    "cur = con.cursor()\n",
    "\n",
    "query = \"\"\"select * from\n",
    "    segments as sg left join site_visits as sv on sv.visit_id = sg.visit_id\n",
    "    where lower(sg.node_name) <> 'body' and sg.inner_text <> ''\n",
    "    limit 25000\n",
    "\"\"\"\n",
    "\n",
    "segments_json = 'output/segments_webtap.json'\n",
    "\n",
    "with open(segments_json, 'w') as f:\n",
    "    for row in tqdm(cur.execute(query)):\n",
    "        domain = urlparse(row['site_url']).hostname\n",
    "        row_d = dict(row)\n",
    "        row_d['domain'] = domain\n",
    "        json.dump(row_d, f)\n",
    "        f.write('\\n')"
   ]
  },
  {
   "cell_type": "markdown",
   "metadata": {},
   "source": [
    "Read from JSON file."
   ]
  },
  {
   "cell_type": "code",
   "execution_count": 3,
   "metadata": {
    "ExecuteTime": {
     "end_time": "2019-02-26T16:02:32.731077Z",
     "start_time": "2019-02-26T16:02:14.029586Z"
    }
   },
   "outputs": [
    {
     "name": "stderr",
     "output_type": "stream",
     "text": [
      "25000it [00:18, 1337.69it/s]\n"
     ]
    }
   ],
   "source": [
    "with open(segments_json, 'r') as f:\n",
    "    for line in tqdm(f):\n",
    "        segment = json.loads(line)"
   ]
  },
  {
   "cell_type": "markdown",
   "metadata": {},
   "source": [
    "**Conclusion**: Reading from the JSON file appears to take about the same time for a small number of iterations (for reference, the entire database is about 7.5M rows), though perhaps there wasn't enough data read to notice the difference. However, due to space constraints on my account on cycles, we cannot write the entire contents of the database to a JSON file on disk anyway, so we have to read from the database."
   ]
  },
  {
   "cell_type": "markdown",
   "metadata": {},
   "source": [
    "## Popups\n",
    "\n",
    "In this section, we extract popup dialogs from the data and inspect various features of them."
   ]
  },
  {
   "cell_type": "code",
   "execution_count": 13,
   "metadata": {
    "ExecuteTime": {
     "end_time": "2019-02-26T16:25:23.181802Z",
     "start_time": "2019-02-26T16:24:48.823715Z"
    }
   },
   "outputs": [
    {
     "name": "stderr",
     "output_type": "stream",
     "text": [
      "50000it [00:34, 1469.31it/s]\n"
     ]
    }
   ],
   "source": [
    "db = '/n/fs/darkpatterns/final-crawl/webtap/webtap.sqlite'\n",
    "con = sqlite3.connect(db)\n",
    "con.row_factory = sqlite3.Row\n",
    "cur = con.cursor()\n",
    "\n",
    "query = \"\"\"select * from\n",
    "    segments as sg left join site_visits as sv on sv.visit_id = sg.visit_id\n",
    "    where lower(sg.node_name) <> 'body' and sg.inner_text <> ''\n",
    "    limit 50000\n",
    "\"\"\"\n",
    "\n",
    "popups = []\n",
    "for row in tqdm(cur.execute(query)):\n",
    "    url = row['site_url']\n",
    "    domain = urlparse(row['site_url']).hostname\n",
    "    text = row['inner_text']\n",
    "    style = json.loads(row['style'])\n",
    "    z = style['z-index']\n",
    "    \n",
    "    popups.append((url, domain, text, z))"
   ]
  },
  {
   "cell_type": "markdown",
   "metadata": {},
   "source": [
    "Group by z-index and report the distribution of z-indices over the segments."
   ]
  },
  {
   "cell_type": "code",
   "execution_count": 29,
   "metadata": {
    "ExecuteTime": {
     "end_time": "2019-02-26T16:45:31.720691Z",
     "start_time": "2019-02-26T16:45:31.620170Z"
    }
   },
   "outputs": [
    {
     "name": "stdout",
     "output_type": "stream",
     "text": [
      "auto: 47174\n",
      "1: 1172\n",
      "9999: 271\n",
      "2: 174\n",
      "50: 126\n",
      "300: 115\n",
      "200: 99\n",
      "0: 98\n",
      "10: 90\n",
      "9999999: 58\n",
      "9: 47\n",
      "999: 46\n",
      "99: 44\n",
      "3: 41\n",
      "11: 41\n",
      "5: 39\n",
      "100: 35\n",
      "1000: 35\n",
      "4: 26\n",
      "6: 26\n",
      "999999: 20\n",
      "-9: 19\n",
      "90: 18\n",
      "-1: 18\n",
      "999999999: 17\n",
      "99999: 16\n",
      "600: 15\n",
      "10000: 8\n",
      "2147483647: 8\n",
      "1046: 8\n",
      "999998: 7\n",
      "7: 6\n",
      "1001: 6\n",
      "10001: 5\n",
      "99990: 5\n",
      "996: 5\n",
      "30: 5\n",
      "20: 4\n",
      "1000000: 4\n",
      "500: 4\n",
      "201: 4\n",
      "15: 4\n",
      "2000: 4\n",
      "2001: 4\n",
      "1006: 4\n",
      "150: 3\n",
      "597: 3\n",
      "110: 2\n",
      "4000: 2\n",
      "-100: 2\n",
      "1003: 2\n",
      "99999999: 1\n",
      "22: 1\n",
      "8: 1\n",
      "108: 1\n",
      "125: 1\n",
      "101: 1\n",
      "9999998: 1\n",
      "16: 1\n",
      "1060: 1\n",
      "54: 1\n",
      "100020: 1\n"
     ]
    }
   ],
   "source": [
    "from collections import defaultdict\n",
    "\n",
    "popups_by_z = defaultdict(lambda: 0)\n",
    "for url, domain, text, z in popups:\n",
    "    popups_by_z[str(z)] += 1\n",
    "    \n",
    "sorted_zs = [(z, count) for z, count in popups_by_z.iteritems()]\n",
    "sorted_zs = sorted(sorted_zs, cmp=lambda x, y: y[1] - x[1])\n",
    "\n",
    "for z, count in sorted_zs:\n",
    "    print('%s: %d' % (z, count))"
   ]
  },
  {
   "cell_type": "markdown",
   "metadata": {},
   "source": [
    "This indicates that the typical case for a segments is having a z-index of \"auto\", which is the same depth as most of the page. Sites seem to use many different values of z-index to achieve popups, but the convention seems to be to use a value > 0 for popups, and < 0 for something hidden (?). Didn't expect to see negative values - should explore this further."
   ]
  },
  {
   "cell_type": "markdown",
   "metadata": {},
   "source": [
    "**Goal** (2:36pm 2/26/19): Emulate what dismiss_dialog.js does in trying to build a filter for popups. Then run the segments through this filter and see what you get."
   ]
  },
  {
   "cell_type": "code",
   "execution_count": null,
   "metadata": {},
   "outputs": [],
   "source": []
  }
 ],
 "metadata": {
  "kernelspec": {
   "display_name": "Python 2",
   "language": "python",
   "name": "python2"
  },
  "language_info": {
   "codemirror_mode": {
    "name": "ipython",
    "version": 2
   },
   "file_extension": ".py",
   "mimetype": "text/x-python",
   "name": "python",
   "nbconvert_exporter": "python",
   "pygments_lexer": "ipython2",
   "version": "2.7.5"
  }
 },
 "nbformat": 4,
 "nbformat_minor": 2
}
