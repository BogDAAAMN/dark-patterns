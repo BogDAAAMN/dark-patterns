{
 "cells": [
  {
   "cell_type": "markdown",
   "metadata": {},
   "source": [
    "# Crawl Data Analysis: Clustering\n",
    "\n",
    "This notebook tries various clustering techniques on our web crawl data."
   ]
  },
  {
   "cell_type": "code",
   "execution_count": 80,
   "metadata": {
    "ExecuteTime": {
     "end_time": "2019-02-04T17:16:08.513676Z",
     "start_time": "2019-02-04T17:16:08.496432Z"
    }
   },
   "outputs": [],
   "source": [
    "from __future__ import print_function\n",
    "import matplotlib.pyplot as plt\n",
    "from mpl_toolkits.mplot3d import Axes3D\n",
    "import numpy as np\n",
    "import os"
   ]
  },
  {
   "cell_type": "markdown",
   "metadata": {},
   "source": [
    "## Read from database\n",
    "\n",
    "Read the crawl data from the database. Here we read in the `site_visits` and `segments` tables and join them."
   ]
  },
  {
   "cell_type": "code",
   "execution_count": 3,
   "metadata": {
    "ExecuteTime": {
     "end_time": "2019-02-04T16:21:08.033893Z",
     "start_time": "2019-02-04T16:21:05.118263Z"
    }
   },
   "outputs": [],
   "source": [
    "import sqlite3\n",
    "import pandas as pd\n",
    "\n",
    "db = '/n/fs/darkpatterns/crawl/2018-12-08_segmentation_pilot2/2018-12-08_segmentation_pilot2.sqlite'\n",
    "con = sqlite3.connect(db)\n",
    "site_visits = pd.read_sql_query('''SELECT * from site_visits''', con)"
   ]
  },
  {
   "cell_type": "code",
   "execution_count": 4,
   "metadata": {
    "ExecuteTime": {
     "end_time": "2019-02-04T16:21:08.942700Z",
     "start_time": "2019-02-04T16:21:08.931975Z"
    }
   },
   "outputs": [
    {
     "name": "stdout",
     "output_type": "stream",
     "text": [
      "Number of site visits: (2839, 3)\n",
      "site_visits columns: ['visit_id', 'crawl_id', 'site_url']\n"
     ]
    }
   ],
   "source": [
    "print('Number of site visits: %s' % str(site_visits.shape))\n",
    "print('site_visits columns: %s' % str(list(site_visits.columns.values)))"
   ]
  },
  {
   "cell_type": "markdown",
   "metadata": {},
   "source": [
    "Report how many unique domains we have."
   ]
  },
  {
   "cell_type": "code",
   "execution_count": 5,
   "metadata": {
    "ExecuteTime": {
     "end_time": "2019-02-04T16:21:10.393735Z",
     "start_time": "2019-02-04T16:21:10.302838Z"
    }
   },
   "outputs": [],
   "source": [
    "from urlparse import urlparse\n",
    "\n",
    "site_visits['domain'] = site_visits['site_url'].apply(lambda x: urlparse(x).netloc)\n",
    "grouped = site_visits.groupby(['domain']).count().sort_values('visit_id', ascending=False)"
   ]
  },
  {
   "cell_type": "code",
   "execution_count": 6,
   "metadata": {
    "ExecuteTime": {
     "end_time": "2019-02-04T16:21:11.044192Z",
     "start_time": "2019-02-04T16:21:11.037811Z"
    }
   },
   "outputs": [
    {
     "name": "stdout",
     "output_type": "stream",
     "text": [
      "Number of unique domains: 630\n"
     ]
    }
   ],
   "source": [
    "print('Number of unique domains: %s' % str(grouped.shape[0]))"
   ]
  },
  {
   "cell_type": "code",
   "execution_count": 7,
   "metadata": {
    "ExecuteTime": {
     "end_time": "2019-02-04T16:26:17.282107Z",
     "start_time": "2019-02-04T16:21:12.897372Z"
    }
   },
   "outputs": [],
   "source": [
    "segments = pd.read_sql_query('''SELECT * from segments''', con)"
   ]
  },
  {
   "cell_type": "code",
   "execution_count": 8,
   "metadata": {
    "ExecuteTime": {
     "end_time": "2019-02-04T16:27:07.942607Z",
     "start_time": "2019-02-04T16:27:07.930785Z"
    }
   },
   "outputs": [
    {
     "name": "stdout",
     "output_type": "stream",
     "text": [
      "Number of segments: (1124037, 22)\n",
      "segments columns: ['id', 'crawl_id', 'visit_id', 'node_name', 'node_id', 'top', 'left', 'width', 'height', 'style', 'inner_text', 'outer_html', 'longest_text', 'longest_text_width', 'longest_text_height', 'longest_text_top', 'longest_text_left', 'longest_text_style', 'num_buttons', 'num_imgs', 'num_anchors', 'time_stamp']\n"
     ]
    }
   ],
   "source": [
    "print('Number of segments: %s' % str(segments.shape))\n",
    "print('segments columns: %s' % str(list(segments.columns.values)))"
   ]
  },
  {
   "cell_type": "code",
   "execution_count": 9,
   "metadata": {
    "ExecuteTime": {
     "end_time": "2019-02-04T16:27:12.520296Z",
     "start_time": "2019-02-04T16:27:09.149847Z"
    }
   },
   "outputs": [],
   "source": [
    "segments = segments.reset_index().set_index('visit_id').join(site_visits.reset_index()[['visit_id', 'site_url', 'domain']].set_index('visit_id'), how='inner')"
   ]
  },
  {
   "cell_type": "markdown",
   "metadata": {},
   "source": [
    "## Preprocess data"
   ]
  },
  {
   "cell_type": "markdown",
   "metadata": {},
   "source": [
    "Ignore `body` tags and null `inner_text`, and add columns for number of newlines and length of `inner_text`."
   ]
  },
  {
   "cell_type": "code",
   "execution_count": 10,
   "metadata": {
    "ExecuteTime": {
     "end_time": "2019-02-04T16:27:19.697727Z",
     "start_time": "2019-02-04T16:27:14.253121Z"
    }
   },
   "outputs": [],
   "source": [
    "segments['inner_text'] = segments['inner_text'].str.strip()\n",
    "segments = segments[(segments['node_name'] != 'BODY') & (segments['inner_text'] != '')]\n",
    "segments['newline_count'] = segments['inner_text'].apply(lambda x: len(x.split('\\n')))\n",
    "segments['inner_text_length'] = segments['inner_text'].apply(lambda x: len(x))"
   ]
  },
  {
   "cell_type": "code",
   "execution_count": 11,
   "metadata": {
    "ExecuteTime": {
     "end_time": "2019-02-04T16:27:21.674907Z",
     "start_time": "2019-02-04T16:27:21.500528Z"
    }
   },
   "outputs": [
    {
     "name": "stdout",
     "output_type": "stream",
     "text": [
      "segments['newline_count'].describe(): \n",
      " count    740532.000000\n",
      "mean          3.981557\n",
      "std          55.266438\n",
      "min           1.000000\n",
      "25%           1.000000\n",
      "50%           1.000000\n",
      "75%           1.000000\n",
      "max        5002.000000\n",
      "segments['inner_text_length'].describe(): \n",
      " count    740532.000000\n",
      "mean        108.879522\n",
      "std        3206.474593\n",
      "min           1.000000\n",
      "25%           5.000000\n",
      "50%          14.000000\n",
      "75%          35.000000\n",
      "max      391699.000000\n"
     ]
    }
   ],
   "source": [
    "print('segments[\\'newline_count\\'].describe(): \\n %s' % segments['newline_count'].describe().to_string())\n",
    "print('segments[\\'inner_text_length\\'].describe(): \\n %s' % segments['inner_text_length'].describe().to_string())"
   ]
  },
  {
   "cell_type": "markdown",
   "metadata": {},
   "source": [
    "Replace numbers with a placeholder."
   ]
  },
  {
   "cell_type": "code",
   "execution_count": 12,
   "metadata": {
    "ExecuteTime": {
     "end_time": "2019-02-04T16:27:33.082287Z",
     "start_time": "2019-02-04T16:27:25.788959Z"
    }
   },
   "outputs": [],
   "source": [
    "segments['inner_text_processed'] = segments['inner_text'].str.replace(r'\\d+', 'DPNUM')\n",
    "segments['longest_text_processed']= segments['longest_text'].str.replace(r'\\d+', 'DPNUM')"
   ]
  },
  {
   "cell_type": "markdown",
   "metadata": {},
   "source": [
    "Remove redundant segments."
   ]
  },
  {
   "cell_type": "code",
   "execution_count": 13,
   "metadata": {
    "ExecuteTime": {
     "end_time": "2019-02-04T16:27:40.368407Z",
     "start_time": "2019-02-04T16:27:34.715125Z"
    }
   },
   "outputs": [],
   "source": [
    "segments = segments.groupby(['domain']).apply(lambda x: x.drop_duplicates(subset=['inner_text_processed'], keep='last'))"
   ]
  },
  {
   "cell_type": "code",
   "execution_count": 83,
   "metadata": {
    "ExecuteTime": {
     "end_time": "2019-02-04T20:56:46.117090Z",
     "start_time": "2019-02-04T20:56:46.108619Z"
    }
   },
   "outputs": [
    {
     "name": "stdout",
     "output_type": "stream",
     "text": [
      "Number of segments: (75516, 28)\n",
      "segments columns: ['index', 'id', 'crawl_id', 'node_name', 'node_id', 'top', 'left', 'width', 'height', 'style', 'inner_text', 'outer_html', 'longest_text', 'longest_text_width', 'longest_text_height', 'longest_text_top', 'longest_text_left', 'longest_text_style', 'num_buttons', 'num_imgs', 'num_anchors', 'time_stamp', 'site_url', 'domain', 'newline_count', 'inner_text_length', 'inner_text_processed', 'longest_text_processed']\n"
     ]
    }
   ],
   "source": [
    "print('Number of segments: %s' % str(segments.shape))\n",
    "print('segments columns: %s' % str(list(segments.columns.values)))"
   ]
  },
  {
   "cell_type": "markdown",
   "metadata": {},
   "source": [
    "## Create feature vectors\n",
    "\n",
    "First we define the a function to tokenize text as we convert text into feature vectors. "
   ]
  },
  {
   "cell_type": "code",
   "execution_count": 15,
   "metadata": {
    "ExecuteTime": {
     "end_time": "2019-02-04T16:28:18.678157Z",
     "start_time": "2019-02-04T16:28:16.755921Z"
    }
   },
   "outputs": [
    {
     "name": "stdout",
     "output_type": "stream",
     "text": [
      "[nltk_data] Downloading package stopwords to /u/mjf4/nltk_data...\n",
      "[nltk_data]   Package stopwords is already up-to-date!\n"
     ]
    }
   ],
   "source": [
    "from nltk.stem.porter import PorterStemmer\n",
    "import nltk\n",
    "\n",
    "nltk.download('stopwords')\n",
    "\n",
    "stemmer = PorterStemmer()\n",
    "stopwords = nltk.corpus.stopwords.words('english')\n",
    "\n",
    "def tokenize(line):\n",
    "    if (line is None):\n",
    "        line = ''\n",
    "    tokens = [stemmer.stem(t) for t in nltk.word_tokenize(line) if len(t) != 0 and t not in stopwords and not t.isdigit()]\n",
    "    return tokens"
   ]
  },
  {
   "cell_type": "markdown",
   "metadata": {},
   "source": [
    "Now select one of the following cells to run to create a feature representation. Either load from the pre-existing file or recompute the features."
   ]
  },
  {
   "cell_type": "markdown",
   "metadata": {},
   "source": [
    "### 1. Bag of words"
   ]
  },
  {
   "cell_type": "code",
   "execution_count": 21,
   "metadata": {
    "ExecuteTime": {
     "end_time": "2019-02-04T12:48:51.260081Z",
     "start_time": "2019-02-04T12:48:51.252603Z"
    }
   },
   "outputs": [
    {
     "name": "stdout",
     "output_type": "stream",
     "text": [
      "No pre-existing file\n"
     ]
    }
   ],
   "source": [
    "if os.path.isfile('features_bow.npy'):\n",
    "    features = np.load('features_bow.npy')\n",
    "    print('Loaded from file')\n",
    "else:\n",
    "    print('No pre-existing file')"
   ]
  },
  {
   "cell_type": "code",
   "execution_count": null,
   "metadata": {},
   "outputs": [],
   "source": [
    "from sklearn.feature_extraction.text import CountVectorizer\n",
    "from sklearn.preprocessing import normalize\n",
    "\n",
    "data = segments['inner_text_processed']\n",
    "vec = CountVectorizer(tokenizer=tokenize, binary=binary_rep, strip_accents='ascii').fit(data)"
   ]
  },
  {
   "cell_type": "code",
   "execution_count": null,
   "metadata": {},
   "outputs": [],
   "source": [
    "print('Length of vocabulary %s' % str(len(vec.vocabulary_)))"
   ]
  },
  {
   "cell_type": "code",
   "execution_count": null,
   "metadata": {},
   "outputs": [],
   "source": [
    "vec = vec.transform(data)\n",
    "features = normalize(vec, axis=0)\n",
    "np.save('features_bow.npy', features)"
   ]
  },
  {
   "cell_type": "markdown",
   "metadata": {},
   "source": [
    "### 2. TFIDF"
   ]
  },
  {
   "cell_type": "code",
   "execution_count": 61,
   "metadata": {
    "ExecuteTime": {
     "end_time": "2019-02-04T17:07:52.782422Z",
     "start_time": "2019-02-04T17:07:52.155530Z"
    }
   },
   "outputs": [
    {
     "name": "stdout",
     "output_type": "stream",
     "text": [
      "Loaded from file\n"
     ]
    }
   ],
   "source": [
    "if os.path.isfile('features_tfidf.npy'):\n",
    "    features = np.load('features_tfidf.npy')\n",
    "    print('Loaded from file')\n",
    "else:\n",
    "    print('No pre-existing file')"
   ]
  },
  {
   "cell_type": "code",
   "execution_count": 64,
   "metadata": {
    "ExecuteTime": {
     "end_time": "2019-02-04T17:11:20.474006Z",
     "start_time": "2019-02-04T17:09:20.918911Z"
    }
   },
   "outputs": [
    {
     "name": "stdout",
     "output_type": "stream",
     "text": [
      "[nltk_data] Downloading package punkt to /u/mjf4/nltk_data...\n",
      "[nltk_data]   Package punkt is already up-to-date!\n"
     ]
    }
   ],
   "source": [
    "from sklearn.feature_extraction.text import TfidfVectorizer\n",
    "\n",
    "nltk.download('punkt')\n",
    "data = segments['inner_text_processed']\n",
    "vec = TfidfVectorizer(tokenizer=tokenize, binary=False, strip_accents='ascii').fit(data)\n",
    "features = vec.transform(data)\n",
    "np.save('features_tfidf.npy', features)"
   ]
  },
  {
   "cell_type": "code",
   "execution_count": 69,
   "metadata": {
    "ExecuteTime": {
     "end_time": "2019-02-04T17:12:24.075445Z",
     "start_time": "2019-02-04T17:12:24.067608Z"
    }
   },
   "outputs": [
    {
     "name": "stdout",
     "output_type": "stream",
     "text": [
      "Length of vocabulary 51257\n",
      "features shape (num_examples, num_features): (1000, 51257)\n"
     ]
    }
   ],
   "source": [
    "print('Length of vocabulary %s' % str(len(vec.vocabulary_)))\n",
    "print('features shape (num_examples, num_features): %s' % str(features.shape))"
   ]
  },
  {
   "cell_type": "markdown",
   "metadata": {},
   "source": [
    "### 3. Word Vectors"
   ]
  },
  {
   "cell_type": "markdown",
   "metadata": {},
   "source": [
    "We compute a vector for each segment as follows: compute the word vector for each word in the segment's `inner_text`, and then average over all words in that segment.\n",
    "\n",
    "While it's simple, there are clearly downsides to this approach:\n",
    "\n",
    "- We lose information about word ordering\n",
    "- All words are equally weighted, so words that really characterize the text are not prioritized"
   ]
  },
  {
   "cell_type": "code",
   "execution_count": 22,
   "metadata": {
    "ExecuteTime": {
     "end_time": "2019-02-04T14:39:52.996953Z",
     "start_time": "2019-02-04T14:39:52.987196Z"
    }
   },
   "outputs": [
    {
     "name": "stdout",
     "output_type": "stream",
     "text": [
      "No pre-existing file\n"
     ]
    }
   ],
   "source": [
    "if os.path.isfile('features_wordvec.npy'):\n",
    "    features = np.load('features_wordvec.npy')\n",
    "    print('Loaded from file')\n",
    "else:\n",
    "    print('No pre-existing file')"
   ]
  },
  {
   "cell_type": "code",
   "execution_count": 89,
   "metadata": {
    "ExecuteTime": {
     "end_time": "2019-02-04T21:29:14.867860Z",
     "start_time": "2019-02-04T21:12:27.929086Z"
    }
   },
   "outputs": [],
   "source": [
    "import en_core_web_sm\n",
    "\n",
    "data = segments['inner_text_processed']\n",
    "nlp = en_core_web_sm.load()\n",
    "vecs = []\n",
    "for doc in nlp.pipe(data.str.replace(r'\\d+', '').astype('unicode').values, batch_size=10000, n_threads=7):\n",
    "    if doc.is_parsed:\n",
    "        vecs.append(doc.vector)\n",
    "    else:\n",
    "        vecs.append(None)\n",
    "features = np.array(vecs)"
   ]
  },
  {
   "cell_type": "code",
   "execution_count": 90,
   "metadata": {
    "ExecuteTime": {
     "end_time": "2019-02-04T21:39:51.945327Z",
     "start_time": "2019-02-04T21:39:51.548248Z"
    }
   },
   "outputs": [],
   "source": [
    "np.save('features_wordvec.npy', features)"
   ]
  },
  {
   "cell_type": "code",
   "execution_count": 91,
   "metadata": {
    "ExecuteTime": {
     "end_time": "2019-02-04T21:39:53.086647Z",
     "start_time": "2019-02-04T21:39:53.076464Z"
    }
   },
   "outputs": [
    {
     "name": "stdout",
     "output_type": "stream",
     "text": [
      "features shape: (75516, 128)\n"
     ]
    }
   ],
   "source": [
    "print('features shape: %s' % str(features.shape))"
   ]
  },
  {
   "cell_type": "markdown",
   "metadata": {},
   "source": [
    "### PCA\n",
    "Try using PCA to reduce the dimension of the data.\n",
    "\n",
    "The feature matrix is expected to be provided with examples in rows (`num_examples` x `num_features`)."
   ]
  },
  {
   "cell_type": "code",
   "execution_count": 46,
   "metadata": {
    "ExecuteTime": {
     "end_time": "2019-02-04T16:59:10.234998Z",
     "start_time": "2019-02-04T16:59:10.223352Z"
    }
   },
   "outputs": [
    {
     "name": "stdout",
     "output_type": "stream",
     "text": [
      "No pre-existing file\n"
     ]
    }
   ],
   "source": [
    "if os.path.isfile('features_proj.npy'):\n",
    "    features = np.load('features_proj.npy')\n",
    "    print('Loaded from file')\n",
    "else:\n",
    "    print('No pre-existing file')"
   ]
  },
  {
   "cell_type": "code",
   "execution_count": 94,
   "metadata": {
    "ExecuteTime": {
     "end_time": "2019-02-04T21:40:59.265360Z",
     "start_time": "2019-02-04T21:40:59.234121Z"
    }
   },
   "outputs": [],
   "source": [
    "# TEMPORARY: Take a subset of the features before doing pca, for speed\n",
    "features_orig = np.copy(features)\n",
    "indices = np.random.choice(np.arange(features.shape[0]), size=1000, replace=False)\n",
    "features = features[indices,:]"
   ]
  },
  {
   "cell_type": "code",
   "execution_count": 95,
   "metadata": {
    "ExecuteTime": {
     "end_time": "2019-02-04T21:41:02.588153Z",
     "start_time": "2019-02-04T21:41:02.580785Z"
    }
   },
   "outputs": [
    {
     "name": "stdout",
     "output_type": "stream",
     "text": [
      "features shape: (1000, 128)\n",
      "features_orig shape: (75516, 128)\n"
     ]
    }
   ],
   "source": [
    "print('features shape: %s' % str(features.shape))\n",
    "print('features_orig shape: %s' % str(features_orig.shape))"
   ]
  },
  {
   "cell_type": "code",
   "execution_count": 96,
   "metadata": {
    "ExecuteTime": {
     "end_time": "2019-02-04T21:41:08.100603Z",
     "start_time": "2019-02-04T21:41:07.813050Z"
    }
   },
   "outputs": [
    {
     "data": {
      "text/plain": [
       "TruncatedSVD(algorithm='randomized', n_components=3, n_iter=5,\n",
       "       random_state=None, tol=0.0)"
      ]
     },
     "execution_count": 96,
     "metadata": {},
     "output_type": "execute_result"
    }
   ],
   "source": [
    "from sklearn.decomposition import TruncatedSVD\n",
    "\n",
    "pca = TruncatedSVD(n_components=3)\n",
    "# pca = PCA(tol=1e-5)\n",
    "pca.fit(features)"
   ]
  },
  {
   "cell_type": "code",
   "execution_count": 97,
   "metadata": {
    "ExecuteTime": {
     "end_time": "2019-02-04T21:41:09.968625Z",
     "start_time": "2019-02-04T21:41:09.959875Z"
    }
   },
   "outputs": [
    {
     "name": "stdout",
     "output_type": "stream",
     "text": [
      "Matrix of PCs: (3, 128)\n",
      "Data matrix: (1000, 128)\n"
     ]
    }
   ],
   "source": [
    "print('Matrix of PCs: %s' % str(pca.components_.shape))\n",
    "print('Data matrix: %s' % str(features.shape))"
   ]
  },
  {
   "cell_type": "markdown",
   "metadata": {},
   "source": [
    "Projected data is given by $U^T X$, where $U$ is matrix with PCs in columns (`orig_dim` x `reduced_dim`), and $X$ is the data matrix with examples in columns (`orig_dim` x `num_examples`). In our case, $U^T$ is `pca.components_` and $X$ is `features.T`."
   ]
  },
  {
   "cell_type": "code",
   "execution_count": 98,
   "metadata": {
    "ExecuteTime": {
     "end_time": "2019-02-04T21:41:34.238650Z",
     "start_time": "2019-02-04T21:41:34.221338Z"
    }
   },
   "outputs": [],
   "source": [
    "features = np.dot(pca.components_, features.T)"
   ]
  },
  {
   "cell_type": "code",
   "execution_count": 99,
   "metadata": {
    "ExecuteTime": {
     "end_time": "2019-02-04T21:41:37.345875Z",
     "start_time": "2019-02-04T21:41:37.336395Z"
    }
   },
   "outputs": [],
   "source": [
    "np.save('features_proj.npy', features)"
   ]
  },
  {
   "cell_type": "code",
   "execution_count": 100,
   "metadata": {
    "ExecuteTime": {
     "end_time": "2019-02-04T21:41:38.443599Z",
     "start_time": "2019-02-04T21:41:38.434396Z"
    }
   },
   "outputs": [
    {
     "name": "stdout",
     "output_type": "stream",
     "text": [
      "feature matrix shape (after PCA): (3, 1000)\n",
      "singular values of the first 3 PCs: [349.6205  150.13757 120.87865]\n"
     ]
    }
   ],
   "source": [
    "print('feature matrix shape (after PCA): %s' % str(features.shape))\n",
    "print('singular values of the first 3 PCs: %s' % str(pca.singular_values_))"
   ]
  },
  {
   "cell_type": "markdown",
   "metadata": {},
   "source": [
    "Plot the data in the reduce dimension."
   ]
  },
  {
   "cell_type": "code",
   "execution_count": 102,
   "metadata": {
    "ExecuteTime": {
     "end_time": "2019-02-04T21:42:15.943601Z",
     "start_time": "2019-02-04T21:42:15.515889Z"
    }
   },
   "outputs": [
    {
     "data": {
      "text/plain": [
       "<mpl_toolkits.mplot3d.art3d.Path3DCollection at 0x7fa09eebfcd0>"
      ]
     },
     "execution_count": 102,
     "metadata": {},
     "output_type": "execute_result"
    },
    {
     "data": {
      "image/png": "[encoded data removed]",
      "text/plain": [
       "<matplotlib.figure.Figure at 0x7fa0c4a73910>"
      ]
     },
     "metadata": {
      "needs_background": "light"
     },
     "output_type": "display_data"
    }
   ],
   "source": [
    "fig = plt.figure()\n",
    "ax = fig.add_subplot(111, projection='3d')\n",
    "ax.scatter(features[0,:], features[1,:], features[2,:])"
   ]
  },
  {
   "cell_type": "markdown",
   "metadata": {},
   "source": [
    "## Clustering"
   ]
  },
  {
   "cell_type": "markdown",
   "metadata": {},
   "source": [
    "Run one of the following clustering algorithms."
   ]
  },
  {
   "cell_type": "markdown",
   "metadata": {},
   "source": [
    "### 1. Hierarchical clustering"
   ]
  },
  {
   "cell_type": "code",
   "execution_count": null,
   "metadata": {},
   "outputs": [],
   "source": [
    "from scipy.spatial import distance\n",
    "import fastcluster\n",
    "\n",
    "featdense = features.todense()\n",
    "distances = distance.pdist(featdense, metric='cosine')\n",
    "distances = distance.squareform(distances, checks=False)"
   ]
  },
  {
   "cell_type": "code",
   "execution_count": null,
   "metadata": {},
   "outputs": [],
   "source": [
    "clusters = fastcluster.linkage(distances, method='ward', preserve_input=False)\n",
    "np.save('linkage.matrix', clusters)"
   ]
  },
  {
   "cell_type": "markdown",
   "metadata": {},
   "source": [
    "Plot a dendogram of the resulting clusters."
   ]
  },
  {
   "cell_type": "code",
   "execution_count": null,
   "metadata": {},
   "outputs": [],
   "source": [
    "plt.figure(figsize=(25, 10))\n",
    "plt.title('Hierarchical Clustering Dendrogram')\n",
    "plt.xlabel('sample index')\n",
    "plt.ylabel('distance')\n",
    "dendrogram(\n",
    "    clusters,\n",
    "    leaf_rotation=90.,\n",
    "    leaf_font_size=8.,\n",
    ")\n",
    "plt.show()"
   ]
  },
  {
   "cell_type": "markdown",
   "metadata": {},
   "source": [
    "### 2. DBSCAN clustering"
   ]
  },
  {
   "cell_type": "code",
   "execution_count": null,
   "metadata": {},
   "outputs": [],
   "source": [
    "from sklearn.cluster import DBSCAN\n",
    "\n",
    "clusterer = DBSCAN(eps=eps, min_samples=min_samples, n_jobs=10, metric='cosine')\n",
    "cluster_labels = clusterer.fit(features)\n",
    "segments['cluster'] = pd.Series(cluster_labels.labels_).values"
   ]
  },
  {
   "cell_type": "code",
   "execution_count": null,
   "metadata": {},
   "outputs": [],
   "source": [
    "print('segments[\\'cluster\\'].value_counts(): \\n %s' % segments['cluster'].value_counts().to_string())"
   ]
  },
  {
   "cell_type": "markdown",
   "metadata": {},
   "source": [
    "### 3. HDBSCAN clustering"
   ]
  },
  {
   "cell_type": "code",
   "execution_count": null,
   "metadata": {},
   "outputs": [],
   "source": [
    "from sklearn.preprocessing import normalize\n",
    "import hdbscan\n",
    "\n",
    "features = normalize(features, axis=1) # Normalize each segment since using euclidean distance metric\n",
    "clusterer = hdbscan.HDBSCAN(min_cluster_size=min_cluster_size, metric='euclidean')\n",
    "cluster_labels = clusterer.fit_predict(features)\n",
    "segments['cluster'] = pd.Series(cluster_labels).values"
   ]
  },
  {
   "cell_type": "code",
   "execution_count": null,
   "metadata": {},
   "outputs": [],
   "source": [
    "print('segments[\\'cluster\\'].value_counts(): \\n %s' % segments['cluster'].value_counts().to_string())"
   ]
  },
  {
   "cell_type": "markdown",
   "metadata": {},
   "source": [
    "## Visualize results\n",
    "\n",
    "Produce a CSV file that shows the segments in each cluster."
   ]
  },
  {
   "cell_type": "code",
   "execution_count": null,
   "metadata": {},
   "outputs": [],
   "source": [
    "inner_texts = segments['inner_text']\n",
    "cluster_labels = segments['cluster']\n",
    "print(\"segments['inner_text'] is %s, segments['cluster'] is %s (should be the same)\" % (str(inner_texts.shape), str(cluster_labels.shape)))\n",
    "assert inner_texts.shape == cluster_labels.shape"
   ]
  },
  {
   "cell_type": "markdown",
   "metadata": {},
   "source": [
    "Group the segments by cluster."
   ]
  },
  {
   "cell_type": "code",
   "execution_count": null,
   "metadata": {},
   "outputs": [],
   "source": [
    "from collections import defaultdict\n",
    "\n",
    "segments_by_cluster = defaultdict(lambda: [])\n",
    "for i in range(inner_texts.shape[0]):\n",
    "segments_by_cluster[str(cluster_labels[i])].append(inner_texts[i])"
   ]
  },
  {
   "cell_type": "markdown",
   "metadata": {},
   "source": [
    "Write CSV file."
   ]
  },
  {
   "cell_type": "code",
   "execution_count": null,
   "metadata": {},
   "outputs": [],
   "source": [
    "import unicodecsv as csv\n",
    "\n",
    "outfile = 'clusters.csv'\n",
    "with open(outfile, 'wb') as f:\n",
    "writer = csv.writer(f)\n",
    "for cluster, segments in segments_by_cluster.iteritems():\n",
    "    segments_str = '\\n\\n'.join(segments)\n",
    "    writer.writerow([cluster, segments_str])"
   ]
  }
 ],
 "metadata": {
  "kernelspec": {
   "display_name": "Python 2",
   "language": "python",
   "name": "python2"
  },
  "language_info": {
   "codemirror_mode": {
    "name": "ipython",
    "version": 2
   },
   "file_extension": ".py",
   "mimetype": "text/x-python",
   "name": "python",
   "nbconvert_exporter": "python",
   "pygments_lexer": "ipython2",
   "version": "2.7.5"
  }
 },
 "nbformat": 4,
 "nbformat_minor": 2
}
