{
 "cells": [
  {
   "cell_type": "markdown",
   "metadata": {},
   "source": [
    "## Third party ADP library prevalence analysis\n",
    "- Find the number sites that embed a given script/endpoint"
   ]
  },
  {
   "cell_type": "code",
   "execution_count": 15,
   "metadata": {},
   "outputs": [],
   "source": [
    "# include script domains or urls\n",
    "# if the backend is in a different domain, include it seperately\n",
    "#ADP_URLS = [\n",
    "#    \"e.fomo.com\",\n",
    "#    \"beeketing.com\",\n",
    "#    \"taggstar.com\",\n",
    "#    \"d10lpsik1i8c69.cloudfront.net/TEST.JS\"  # we can include path as well\n",
    "#]\n",
    "\n",
    "ADP_BASE_URLS_REGEXES = {\n",
    "    \"Fomo\": \"^e.fomo.com.*events.js\",\n",
    "    \"Beeketing\": \"^gapi.beeketing.com/.*/get-sdk-notifications\",\n",
    "    \"Recently\": \"^recently.appifiny.io/store\",\n",
    "    \"Fera\": \"^app.fera.ai/api/v1/content/containers.json\",\n",
    "    \"Vitals\": \"^getvitals.io/assets/js/bundle.js\",\n",
    "    \"Nice (Shopify plugin)\": \"^www.goldendev.win/shopify/show-recent-orders/get/last-order.php\",\n",
    "    \"Amasty (Magento plugin)\": \".*amwhatsup/block/getlastactivity/\",\n",
    "    \"LeanConvert\": \"lc-api.net/v1/product/events\",\n",
    "    \"Taggstar\": \"cdn.taggstar.com.*taggstar.min.js\",\n",
    "    \"Insider\": \"useinsider.com\",\n",
    "    \"FreshRelevance\": \"dn1i8v75r669j.cloudfront.net\",\n",
    "    \"Qubit\": \"qubitproducts.com/tally\",\n",
    "    \"Bunting\": \"bunting.com/call.js\",\n",
    "    \"ConvertCart\": \"convertcart.com\",\n",
    "    \"Woocommerce Notification (Woocommerce plugin)\": \"plugins/woocommerce-notification/js/woocommerce-notification.min.js\"\n",
    "}\n"
   ]
  },
  {
   "cell_type": "code",
   "execution_count": 7,
   "metadata": {},
   "outputs": [],
   "source": [
    "import re\n",
    "import json\n",
    "import sqlite3\n",
    "import pandas as pd\n",
    "import json\n",
    "from collections import defaultdict\n",
    "from urlparse import urlparse\n",
    "from os.path import expanduser\n",
    "\n",
    "pd.set_option(\"display.max_colwidth\",500)\n",
    "pd.set_option(\"display.max_rows\",500)\n"
   ]
  },
  {
   "cell_type": "code",
   "execution_count": 3,
   "metadata": {},
   "outputs": [],
   "source": [
    "def dump_as_json(obj, json_path):\n",
    "    with open(json_path, 'w') as f:\n",
    "        json.dump(obj, f)\n",
    "\n",
    "def load_json_file(json_path):\n",
    "    with open(json_path) as json_file:\n",
    "        return json.load(json_file)\n"
   ]
  },
  {
   "cell_type": "code",
   "execution_count": 4,
   "metadata": {},
   "outputs": [],
   "source": [
    "ODIN_DB_PATH = \"/media/gacar/Data/dp/20190206-203758_segmentation_pilot/20190206-203758_segmentation_pilot.sqlite\"\n",
    "WEBTAP_DB_PATH = \"/media/gacar/Data/dp/20190206-205000_segmentation_pilot/20190206-205000_segmentation_pilot.sqlite\""
   ]
  },
  {
   "cell_type": "code",
   "execution_count": 11,
   "metadata": {},
   "outputs": [],
   "source": [
    "def get_embedding_sites_by_regex(endpoint_regexes, db_path):\n",
    "    con = sqlite3.connect(db_path)\n",
    "    con.row_factory = sqlite3.Row\n",
    "    query = \"\"\"SELECT sv.visit_id, sv.site_url, r.url, r.method,\n",
    "                r.post_body FROM http_requests as r LEFT JOIN site_visits as sv\n",
    "                ON sv.visit_id = r.visit_id\n",
    "                \"\"\"\n",
    "    adp_sites = defaultdict(set)\n",
    "    # print(\"Will run the query %s \" % query)\n",
    "    for row in con.execute(query):\n",
    "        for endpoint_name, endpoint_regex in endpoint_regexes.iteritems():\n",
    "            if re.search(endpoint_regex, row['url'].split(\"://\")[-1]):\n",
    "                host = urlparse(row['site_url']).hostname\n",
    "                # print host, row['site_url']\n",
    "                adp_sites[endpoint_name].add(host)\n",
    "\n",
    "    return adp_sites\n",
    "\n",
    "\n",
    "def get_embedding_sites(url_substrings, db_path):\n",
    "    con = sqlite3.connect(db_path)\n",
    "    con.row_factory = sqlite3.Row\n",
    "    query = \"\"\"SELECT sv.visit_id, sv.site_url, r.url, r.method,\n",
    "                r.post_body FROM http_requests as r LEFT JOIN site_visits as sv\n",
    "                ON sv.visit_id = r.visit_id\"\"\"\n",
    "    adp_sites = defaultdict(set)\n",
    "    # print(\"Will run the query %s \" % query)\n",
    "    for row in con.execute(query):\n",
    "        for js_url in url_substrings:\n",
    "            if js_url in row['url']:\n",
    "                host = urlparse(row['site_url']).hostname\n",
    "                # print host, row['site_url']\n",
    "                adp_sites[js_url].add(host)\n",
    "\n",
    "    return adp_sites\n",
    "\n",
    "def get_prevalence_counts(endpoint_regexes, db_path, db_path_2=None):\n",
    "    adp_sites_db = get_embedding_sites_by_regex(endpoint_regexes, db_path)\n",
    "    if db_path_2:\n",
    "        adp_sites_db_2 = get_embedding_sites_by_regex(endpoint_regexes, db_path_2)\n",
    "        for endpoint_name, sites in adp_sites_db_2.iteritems():\n",
    "            adp_sites_db[endpoint_name] |= sites\n",
    "    adp_prevalence = {endpoint_name: len(sites) for endpoint_name, sites in adp_sites_db.iteritems()}\n",
    "    return adp_prevalence, adp_sites_db"
   ]
  },
  {
   "cell_type": "markdown",
   "metadata": {},
   "source": [
    "## Compute prevalence using two DBs (e.g. odin and webtap)"
   ]
  },
  {
   "cell_type": "code",
   "execution_count": 12,
   "metadata": {},
   "outputs": [
    {
     "ename": "KeyboardInterrupt",
     "evalue": "",
     "output_type": "error",
     "traceback": [
      "\u001b[0;31m---------------------------------------------------------------------------\u001b[0m",
      "\u001b[0;31mKeyboardInterrupt\u001b[0m                         Traceback (most recent call last)",
      "\u001b[0;32m<ipython-input-12-35ad897a856c>\u001b[0m in \u001b[0;36m<module>\u001b[0;34m()\u001b[0m\n\u001b[0;32m----> 1\u001b[0;31m \u001b[0madp_prevalence\u001b[0m\u001b[0;34m,\u001b[0m \u001b[0madp_sites_dict\u001b[0m \u001b[0;34m=\u001b[0m \u001b[0mget_prevalence_counts\u001b[0m\u001b[0;34m(\u001b[0m\u001b[0mADP_BASE_URLS_REGEXES\u001b[0m\u001b[0;34m,\u001b[0m \u001b[0mODIN_DB_PATH\u001b[0m\u001b[0;34m,\u001b[0m \u001b[0mWEBTAP_DB_PATH\u001b[0m\u001b[0;34m)\u001b[0m\u001b[0;34m\u001b[0m\u001b[0m\n\u001b[0m\u001b[1;32m      2\u001b[0m \u001b[0mdump_as_json\u001b[0m\u001b[0;34m(\u001b[0m\u001b[0madp_prevalence\u001b[0m\u001b[0;34m,\u001b[0m \u001b[0;34m\"adp-third-party-lib-prevalence-odin-webtap-regex.json\"\u001b[0m\u001b[0;34m)\u001b[0m\u001b[0;34m\u001b[0m\u001b[0m\n\u001b[1;32m      3\u001b[0m \u001b[0;32mfor\u001b[0m \u001b[0mjs_url\u001b[0m\u001b[0;34m,\u001b[0m \u001b[0msite_count\u001b[0m \u001b[0;32min\u001b[0m \u001b[0madp_prevalence\u001b[0m\u001b[0;34m.\u001b[0m\u001b[0miteritems\u001b[0m\u001b[0;34m(\u001b[0m\u001b[0;34m)\u001b[0m\u001b[0;34m:\u001b[0m\u001b[0;34m\u001b[0m\u001b[0m\n\u001b[1;32m      4\u001b[0m     \u001b[0;31m# print js_url, adp_sites\u001b[0m\u001b[0;34m\u001b[0m\u001b[0;34m\u001b[0m\u001b[0m\n\u001b[1;32m      5\u001b[0m     \u001b[0;32mprint\u001b[0m \u001b[0mjs_url\u001b[0m\u001b[0;34m,\u001b[0m \u001b[0msite_count\u001b[0m\u001b[0;34m\u001b[0m\u001b[0m\n",
      "\u001b[0;32m<ipython-input-11-638b5e2849d5>\u001b[0m in \u001b[0;36mget_prevalence_counts\u001b[0;34m(endpoint_regexes, db_path, db_path_2)\u001b[0m\n\u001b[1;32m     36\u001b[0m \u001b[0;34m\u001b[0m\u001b[0m\n\u001b[1;32m     37\u001b[0m \u001b[0;32mdef\u001b[0m \u001b[0mget_prevalence_counts\u001b[0m\u001b[0;34m(\u001b[0m\u001b[0mendpoint_regexes\u001b[0m\u001b[0;34m,\u001b[0m \u001b[0mdb_path\u001b[0m\u001b[0;34m,\u001b[0m \u001b[0mdb_path_2\u001b[0m\u001b[0;34m=\u001b[0m\u001b[0mNone\u001b[0m\u001b[0;34m)\u001b[0m\u001b[0;34m:\u001b[0m\u001b[0;34m\u001b[0m\u001b[0m\n\u001b[0;32m---> 38\u001b[0;31m     \u001b[0madp_sites_db\u001b[0m \u001b[0;34m=\u001b[0m \u001b[0mget_embedding_sites_by_regex\u001b[0m\u001b[0;34m(\u001b[0m\u001b[0mendpoint_regexes\u001b[0m\u001b[0;34m,\u001b[0m \u001b[0mdb_path\u001b[0m\u001b[0;34m)\u001b[0m\u001b[0;34m\u001b[0m\u001b[0m\n\u001b[0m\u001b[1;32m     39\u001b[0m     \u001b[0;32mif\u001b[0m \u001b[0mdb_path_2\u001b[0m\u001b[0;34m:\u001b[0m\u001b[0;34m\u001b[0m\u001b[0m\n\u001b[1;32m     40\u001b[0m         \u001b[0madp_sites_db_2\u001b[0m \u001b[0;34m=\u001b[0m \u001b[0mget_embedding_sites_by_regex\u001b[0m\u001b[0;34m(\u001b[0m\u001b[0mendpoint_regexes\u001b[0m\u001b[0;34m,\u001b[0m \u001b[0mdb_path_2\u001b[0m\u001b[0;34m)\u001b[0m\u001b[0;34m\u001b[0m\u001b[0m\n",
      "\u001b[0;32m<ipython-input-11-638b5e2849d5>\u001b[0m in \u001b[0;36mget_embedding_sites_by_regex\u001b[0;34m(endpoint_regexes, db_path)\u001b[0m\n\u001b[1;32m     10\u001b[0m     \u001b[0;32mfor\u001b[0m \u001b[0mrow\u001b[0m \u001b[0;32min\u001b[0m \u001b[0mcon\u001b[0m\u001b[0;34m.\u001b[0m\u001b[0mexecute\u001b[0m\u001b[0;34m(\u001b[0m\u001b[0mquery\u001b[0m\u001b[0;34m)\u001b[0m\u001b[0;34m:\u001b[0m\u001b[0;34m\u001b[0m\u001b[0m\n\u001b[1;32m     11\u001b[0m         \u001b[0;32mfor\u001b[0m \u001b[0mendpoint_name\u001b[0m\u001b[0;34m,\u001b[0m \u001b[0mendpoint_regex\u001b[0m \u001b[0;32min\u001b[0m \u001b[0mendpoint_regexes\u001b[0m\u001b[0;34m.\u001b[0m\u001b[0miteritems\u001b[0m\u001b[0;34m(\u001b[0m\u001b[0;34m)\u001b[0m\u001b[0;34m:\u001b[0m\u001b[0;34m\u001b[0m\u001b[0m\n\u001b[0;32m---> 12\u001b[0;31m             \u001b[0;32mif\u001b[0m \u001b[0mre\u001b[0m\u001b[0;34m.\u001b[0m\u001b[0msearch\u001b[0m\u001b[0;34m(\u001b[0m\u001b[0mendpoint_regex\u001b[0m\u001b[0;34m,\u001b[0m \u001b[0mrow\u001b[0m\u001b[0;34m[\u001b[0m\u001b[0;34m'url'\u001b[0m\u001b[0;34m]\u001b[0m\u001b[0;34m.\u001b[0m\u001b[0msplit\u001b[0m\u001b[0;34m(\u001b[0m\u001b[0;34m\"://\"\u001b[0m\u001b[0;34m)\u001b[0m\u001b[0;34m[\u001b[0m\u001b[0;34m-\u001b[0m\u001b[0;36m1\u001b[0m\u001b[0;34m]\u001b[0m\u001b[0;34m)\u001b[0m\u001b[0;34m:\u001b[0m\u001b[0;34m\u001b[0m\u001b[0m\n\u001b[0m\u001b[1;32m     13\u001b[0m                 \u001b[0mhost\u001b[0m \u001b[0;34m=\u001b[0m \u001b[0murlparse\u001b[0m\u001b[0;34m(\u001b[0m\u001b[0mrow\u001b[0m\u001b[0;34m[\u001b[0m\u001b[0;34m'site_url'\u001b[0m\u001b[0;34m]\u001b[0m\u001b[0;34m)\u001b[0m\u001b[0;34m.\u001b[0m\u001b[0mhostname\u001b[0m\u001b[0;34m\u001b[0m\u001b[0m\n\u001b[1;32m     14\u001b[0m                 \u001b[0;31m# print host, row['site_url']\u001b[0m\u001b[0;34m\u001b[0m\u001b[0;34m\u001b[0m\u001b[0m\n",
      "\u001b[0;32m/usr/lib/python2.7/re.pyc\u001b[0m in \u001b[0;36msearch\u001b[0;34m(pattern, string, flags)\u001b[0m\n\u001b[1;32m    144\u001b[0m     \"\"\"Scan through string looking for a match to the pattern, returning\n\u001b[1;32m    145\u001b[0m     a match object, or None if no match was found.\"\"\"\n\u001b[0;32m--> 146\u001b[0;31m     \u001b[0;32mreturn\u001b[0m \u001b[0m_compile\u001b[0m\u001b[0;34m(\u001b[0m\u001b[0mpattern\u001b[0m\u001b[0;34m,\u001b[0m \u001b[0mflags\u001b[0m\u001b[0;34m)\u001b[0m\u001b[0;34m.\u001b[0m\u001b[0msearch\u001b[0m\u001b[0;34m(\u001b[0m\u001b[0mstring\u001b[0m\u001b[0;34m)\u001b[0m\u001b[0;34m\u001b[0m\u001b[0m\n\u001b[0m\u001b[1;32m    147\u001b[0m \u001b[0;34m\u001b[0m\u001b[0m\n\u001b[1;32m    148\u001b[0m \u001b[0;32mdef\u001b[0m \u001b[0msub\u001b[0m\u001b[0;34m(\u001b[0m\u001b[0mpattern\u001b[0m\u001b[0;34m,\u001b[0m \u001b[0mrepl\u001b[0m\u001b[0;34m,\u001b[0m \u001b[0mstring\u001b[0m\u001b[0;34m,\u001b[0m \u001b[0mcount\u001b[0m\u001b[0;34m=\u001b[0m\u001b[0;36m0\u001b[0m\u001b[0;34m,\u001b[0m \u001b[0mflags\u001b[0m\u001b[0;34m=\u001b[0m\u001b[0;36m0\u001b[0m\u001b[0;34m)\u001b[0m\u001b[0;34m:\u001b[0m\u001b[0;34m\u001b[0m\u001b[0m\n",
      "\u001b[0;31mKeyboardInterrupt\u001b[0m: "
     ]
    }
   ],
   "source": [
    "adp_prevalence, adp_sites_dict = get_prevalence_counts(ADP_BASE_URLS_REGEXES, ODIN_DB_PATH, WEBTAP_DB_PATH)\n",
    "dump_as_json(adp_prevalence, \"adp-third-party-lib-prevalence-odin-webtap-regex.json\")\n",
    "for js_url, site_count in adp_prevalence.iteritems():\n",
    "    # print js_url, adp_sites\n",
    "    print endpoint_name, site_count"
   ]
  },
  {
   "cell_type": "markdown",
   "metadata": {},
   "source": [
    "## Compute prevalence using 1 DBs (census 1-million crawl DB)"
   ]
  },
  {
   "cell_type": "code",
   "execution_count": 29,
   "metadata": {},
   "outputs": [],
   "source": [
    "ONE_MILLION_DB = expanduser(\"/mnt/10tb2/census-release-normalized/stateless/2018-11_1m_stateless/2018-11_1m_stateless_census_crawl.sqlite\")\n",
    "\n",
    "adp_prevalence, adp_sites_dict = get_prevalence_counts(ADP_BASE_URLS_REGEXES, ONE_MILLION_DB)\n",
    "dump_as_json(adp_prevalence, \"adp-third-party-lib-prevalence-one-million-sites.json\")\n",
    "for endpoint_name, site_count in adp_prevalence.iteritems():\n",
    "    # print js_url, adp_sites\n",
    "    print endpoint_name, site_count"
   ]
  },
  {
   "cell_type": "code",
   "execution_count": null,
   "metadata": {},
   "outputs": [],
   "source": []
  }
 ],
 "metadata": {
  "kernelspec": {
   "display_name": "Python 2",
   "language": "python",
   "name": "python2"
  },
  "language_info": {
   "codemirror_mode": {
    "name": "ipython",
    "version": 2
   },
   "file_extension": ".py",
   "mimetype": "text/x-python",
   "name": "python",
   "nbconvert_exporter": "python",
   "pygments_lexer": "ipython2",
   "version": "2.7.15rc1"
  }
 },
 "nbformat": 4,
 "nbformat_minor": 2
}
