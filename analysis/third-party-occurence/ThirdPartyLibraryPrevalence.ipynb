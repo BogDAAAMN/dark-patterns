{
 "cells": [
  {
   "cell_type": "code",
   "execution_count": 80,
   "metadata": {},
   "outputs": [],
   "source": [
    "import json\n",
    "import sqlite3\n",
    "import pandas as pd\n",
    "import json\n",
    "from collections import defaultdict\n",
    "from urlparse import urlparse\n",
    "from os.path import expanduser\n",
    "\n",
    "pd.set_option(\"display.max_colwidth\",500)\n",
    "pd.set_option(\"display.max_rows\",500)\n"
   ]
  },
  {
   "cell_type": "code",
   "execution_count": null,
   "metadata": {},
   "outputs": [],
   "source": []
  },
  {
   "cell_type": "code",
   "execution_count": 61,
   "metadata": {},
   "outputs": [],
   "source": [
    "def dump_as_json(obj, json_path):\n",
    "    with open(json_path, 'w') as f:\n",
    "        json.dump(obj, f)\n",
    "\n",
    "def load_json_file(json_path):\n",
    "    with open(json_path) as json_file:\n",
    "        return json.load(json_file)\n"
   ]
  },
  {
   "cell_type": "code",
   "execution_count": 83,
   "metadata": {},
   "outputs": [],
   "source": [
    "# include script domains or urls\n",
    "# if the backend is in a different domain, include it seperately\n",
    "adp_urls = [\n",
    "    \"e.fomo.com\",\n",
    "    \"beeketing.com\",\n",
    "    \"taggstar.com\",\n",
    "    \"d10lpsik1i8c69.cloudfront.net/TEST.JS\"  # we can include path as well\n",
    "]\n",
    "\n",
    "adp_ps1s =  [get_tld(\"http://\"+adress) for adress in adp_urls]"
   ]
  },
  {
   "cell_type": "markdown",
   "metadata": {},
   "source": [
    "## TODO: Run using the correct DB paths"
   ]
  },
  {
   "cell_type": "code",
   "execution_count": 90,
   "metadata": {},
   "outputs": [],
   "source": [
    "ODIN_DB_PATH = expanduser(\"~/20190204-224232_segmentation_pilot/20190204-224232_segmentation_pilot.sqlite\")\n",
    "WEBTAP_DB_PATH = expanduser(\"~/20190204-225619_segmentation_pilot/20190204-225619_segmentation_pilot.sqlite\")"
   ]
  },
  {
   "cell_type": "code",
   "execution_count": 91,
   "metadata": {},
   "outputs": [],
   "source": [
    "def get_embedding_sites(url_substrings, db_path):\n",
    "    con = sqlite3.connect(db_path)\n",
    "    con.row_factory = sqlite3.Row\n",
    "    query = \"\"\"SELECT sv.visit_id, sv.site_url, r.url, r.method,\n",
    "        r.post_body FROM http_requests as r LEFT JOIN site_visits as sv\n",
    "        ON sv.visit_id = r.visit_id\"\"\"\n",
    "    adp_sites = defaultdict(set)\n",
    "    # print(\"Will run the query %s \" % query)\n",
    "    cnt = 0\n",
    "    for row in con.execute(query):\n",
    "        for js_url in url_substrings:\n",
    "            if js_url in row['url']:\n",
    "                host = urlparse(row['site_url']).hostname\n",
    "                # print host, row['site_url']\n",
    "                adp_sites[js_url].add(host)\n",
    "\n",
    "    return adp_sites\n",
    "\n",
    "def get_prevalence_counts(url_substrings, db_path, db_path_2=None):\n",
    "    adp_sites_db_1 = get_embedding_sites(adp_urls, db_path)\n",
    "    if db_path_2:\n",
    "        adp_sites_db_2 = get_embedding_sites(adp_urls, db_path_2)\n",
    "        for js_url, sites in adp_sites_db_2.iteritems():\n",
    "            adp_sites_db_1[js_url] |= sites\n",
    "    adp_prevalence = {url: len(sites) for url, sites in adp_sites_db_1.iteritems()}\n",
    "    return adp_prevalence, adp_sites_db_1"
   ]
  },
  {
   "cell_type": "markdown",
   "metadata": {},
   "source": [
    "## Compute prevalence using two DBs (e.g. odin and webtap)"
   ]
  },
  {
   "cell_type": "code",
   "execution_count": 92,
   "metadata": {},
   "outputs": [
    {
     "name": "stdout",
     "output_type": "stream",
     "text": [
      "beeketing.com 3\n",
      "taggstar.com 2\n"
     ]
    }
   ],
   "source": [
    "adp_prevalence, adp_sites_dict = get_prevalence_counts(adp_urls, ODIN_DB_PATH, WEBTAP_DB_PATH)\n",
    "dump_as_json(adp_prevalence, \"adp-third-party-lib-prevalence-odin-webtap.json\")\n",
    "for js_url, adp_sites in adp_sites_dict.iteritems():\n",
    "    # print js_url, adp_sites\n",
    "    print js_url, len(adp_sites)"
   ]
  },
  {
   "cell_type": "markdown",
   "metadata": {},
   "source": [
    "## Compute prevalence using 1 DBs (census 1-million crawl DB)"
   ]
  },
  {
   "cell_type": "code",
   "execution_count": 93,
   "metadata": {},
   "outputs": [],
   "source": [
    "ONE_MILLION_DB = expanduser(\"~/20190202-151238_countdown_detection_crawl/20190202-151238_countdown_detection_crawl.sqlite\")\n",
    "adp_prevalence, adp_sites_dict = get_prevalence_counts(adp_urls, ONE_MILLION_DB)\n",
    "dump_as_json(adp_prevalence, \"adp-third-party-lib-prevalence-one-million-sites.json\")\n",
    "for js_url, adp_sites in adp_sites_dict.iteritems():\n",
    "    # print js_url, adp_sites\n",
    "    print js_url, len(adp_sites)"
   ]
  },
  {
   "cell_type": "code",
   "execution_count": null,
   "metadata": {},
   "outputs": [],
   "source": []
  }
 ],
 "metadata": {
  "kernelspec": {
   "display_name": "Python 2",
   "language": "python",
   "name": "python2"
  },
  "language_info": {
   "codemirror_mode": {
    "name": "ipython",
    "version": 2
   },
   "file_extension": ".py",
   "mimetype": "text/x-python",
   "name": "python",
   "nbconvert_exporter": "python",
   "pygments_lexer": "ipython2",
   "version": "2.7.14"
  }
 },
 "nbformat": 4,
 "nbformat_minor": 2
}
