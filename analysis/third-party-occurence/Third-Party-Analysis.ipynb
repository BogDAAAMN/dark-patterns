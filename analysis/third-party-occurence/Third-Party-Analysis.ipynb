{
 "cells": [
  {
   "cell_type": "markdown",
   "metadata": {},
   "source": [
    "# Find 3rd parties common to sites with ADPs\n",
    "High level idea: compare the prevalence of TPs on sites with ADPs to sites without ADPs\n",
    "- comparison will be performed per ADP type; e.g. compare the prevalence of TPs on social proof sites to non-social proof sites (may also include timer sites amd stock sites)\n",
    "- sites with ADPs are read from the long term monitoring URLs (TODO: remove timer false positives)\n",
    "\n",
    "for each ADP:\n",
    "- build a frequency dict of TPs from sites with this specific ADP\n",
    " - exclude images, CSS, fonts etc. (see filtering by content_policy_type below)\n",
    " - dict will look like {e.fomo.com -> 5} (5 is no of distinct sites this TP is embedded on))\n",
    "- build a frequency dict of TPs from sites that don't include this specific ADP\n",
    "  for each TP:\n",
    "  - compare the prevalence across ADP sites vs non-ADP sites (for this specific ADP)\n",
    "  - list TPs that only appear on ADP sites and don't appear on the non-ADP sites\n",
    "  - list TPs that are 2x more common on ADP sites compared to non-ADP sites (2 is an arbitrary threshold that we can tweak)"
   ]
  },
  {
   "cell_type": "code",
   "execution_count": 3,
   "metadata": {},
   "outputs": [],
   "source": [
    "import sqlite3\n",
    "import pandas as pd\n",
    "import re\n",
    "import json\n",
    "import os\n",
    "from glob import glob\n",
    "from collections import defaultdict\n",
    "from os.path import basename, abspath, join, expanduser\n",
    "from urlparse import urlparse\n",
    "from extract_tp_to_site_mapping import is_third_party\n",
    "\n",
    "pd.options.display.max_colwidth = 450\n",
    "pd.options.display.html.use_mathjax = False"
   ]
  },
  {
   "cell_type": "code",
   "execution_count": 4,
   "metadata": {},
   "outputs": [],
   "source": [
    "def get_adp_urls():\n",
    "    timer_urls = []\n",
    "    soc_proof_urls = []\n",
    "    stock_urls = []\n",
    "    # this dir should be in the repo\n",
    "    for url_file in glob(\"../../data/monitoring/urls/*\"):\n",
    "        # print url_file\n",
    "        for l in open(url_file):\n",
    "            page_url = l.rstrip()\n",
    "            #print page_url\n",
    "            if basename(url_file) == \"stock_notifications.txt\":\n",
    "                stock_urls.append(page_url)\n",
    "            elif basename(url_file) == \"social_proofs.txt\":\n",
    "                soc_proof_urls.append(page_url)\n",
    "            elif basename(url_file) == \"timers.csv\":\n",
    "                # TODO: timer URLs likely include false positives, we may want to use the\n",
    "                # list of sites with manipulative and deceptive timers.\n",
    "                timer_urls.append(page_url)\n",
    "    return timer_urls, soc_proof_urls, stock_urls\n",
    "\n"
   ]
  },
  {
   "cell_type": "code",
   "execution_count": null,
   "metadata": {},
   "outputs": [],
   "source": [
    "\"\"\"\n",
    "mapping from Steve Englehardt (TODO: add to the acknowledgements)\n",
    "\n",
    "content_policy_type_map = {\n",
    "  '1': 'other',\n",
    "  '2': 'script',\n",
    "  '3': 'image',\n",
    "  '4': 'stylesheet',\n",
    "  '5': 'object',\n",
    "  '6': 'document',\n",
    "  '7': 'subdocument',\n",
    "  '8': 'refresh',\n",
    "  '9': 'xbl',\n",
    "  '10': 'ping',\n",
    "  '11': 'xhr',\n",
    "  '12': 'object_subrequest',\n",
    "  '13': 'dtd',\n",
    "  '14': 'font',\n",
    "  '15': 'media',\n",
    "  '16': 'websocket',\n",
    "  '17': 'csp_report',\n",
    "  '18': 'xslt',\n",
    "  '19': 'beacon',\n",
    "  '20': 'fetch',\n",
    "  '21': 'imageset',\n",
    "  '22': 'web_manifest'\n",
    "}\n",
    "\"\"\"\n",
    "def read_tp_requests(db_path):\n",
    "    \"\"\"Return all requests observed on the given site_urls.\"\"\"\n",
    "    con = sqlite3.connect(db_path)\n",
    "    df = pd.read_sql(\"\"\"\n",
    "    SELECT re.url, re.content_policy_type, sv.site_url, sv.visit_id\n",
    "      FROM http_requests AS re\n",
    "        LEFT JOIN site_visits AS sv ON re.visit_id = sv.visit_id\n",
    "        WHERE re.content_policy_type in (1, 2, 6, 7, 11, 16, 20)\n",
    "           \"\"\", con)\n",
    "    df['is_third_party'] = df.apply(lambda x: bool(is_third_party(x[\"url\"], x[\"site_url\"])[0]), axis=1)\n",
    "    return df[df.is_third_party]\n"
   ]
  },
  {
   "cell_type": "code",
   "execution_count": 42,
   "metadata": {},
   "outputs": [],
   "source": [
    "TESTING = False\n",
    "\n",
    "timer_urls, soc_proof_urls, stock_urls = get_adp_urls()\n",
    "\n",
    "if TESTING:\n",
    "    soc_proof_urls.append(\"https://www.holabirdsports.com/collections/brand-new-babolat-sfx3/products/babolat-sfx3-all-court-womens-white-silver\")\n",
    "    soc_proof_urls.append(\"https://www.6ku.com/products/6ku-8-speed-city-bike-women\")\n",
    "\n",
    "    ODIN_DB_PATH = expanduser(\"~/20190202-151238_countdown_detection_crawl/20190202-151238_countdown_detection_crawl.sqlite\")\n",
    "    WEBTAP_DB_PATH = expanduser(\"~/20190204-011001_segmentation_pilot/20190204-011001_segmentation_pilot.sqlite\")\n",
    "else:\n",
    "    ODIN_DB_PATH = \"/media/gacar/Data/dp/20190206-203758_segmentation_pilot/20190206-203758_segmentation_pilot.sqlite\"\n",
    "    WEBTAP_DB_PATH = \"/media/gacar/Data/dp/20190206-205000_segmentation_pilot/20190206-205000_segmentation_pilot.sqlite\"\n",
    "\n"
   ]
  },
  {
   "cell_type": "code",
   "execution_count": null,
   "metadata": {},
   "outputs": [],
   "source": []
  },
  {
   "cell_type": "code",
   "execution_count": 43,
   "metadata": {},
   "outputs": [
    {
     "data": {
      "text/html": [
       "<div>\n",
       "<style scoped>\n",
       "    .dataframe tbody tr th:only-of-type {\n",
       "        vertical-align: middle;\n",
       "    }\n",
       "\n",
       "    .dataframe tbody tr th {\n",
       "        vertical-align: top;\n",
       "    }\n",
       "\n",
       "    .dataframe thead th {\n",
       "        text-align: right;\n",
       "    }\n",
       "</style>\n",
       "<table border=\"1\" class=\"dataframe tex2jax_ignore\">\n",
       "  <thead>\n",
       "    <tr style=\"text-align: right;\">\n",
       "      <th></th>\n",
       "      <th>url</th>\n",
       "      <th>content_policy_type</th>\n",
       "      <th>site_url</th>\n",
       "      <th>visit_id</th>\n",
       "      <th>is_third_party</th>\n",
       "      <th>base_url</th>\n",
       "      <th>site_hostname</th>\n",
       "      <th>stock</th>\n",
       "      <th>social_proof</th>\n",
       "      <th>timer</th>\n",
       "    </tr>\n",
       "  </thead>\n",
       "  <tbody>\n",
       "    <tr>\n",
       "      <th>20</th>\n",
       "      <td>https://cdn.cquotient.com/js/v2/gretel.min.js</td>\n",
       "      <td>2</td>\n",
       "      <td>https://www.mackenzie-childs.com/patience-brewster-ruby-red-wine-girl-tea-towel/08-30943.html</td>\n",
       "      <td>4</td>\n",
       "      <td>True</td>\n",
       "      <td>cdn.cquotient.com/js/v2/gretel.min.js</td>\n",
       "      <td>www.mackenzie-childs.com</td>\n",
       "      <td>False</td>\n",
       "      <td>False</td>\n",
       "      <td>False</td>\n",
       "    </tr>\n",
       "    <tr>\n",
       "      <th>26</th>\n",
       "      <td>https://cdn.shopify.com/s/files/1/1042/2862/t/94/assets/app.js?9898202562766866050</td>\n",
       "      <td>2</td>\n",
       "      <td>https://slickcaseofficial.com/collections/custom-macbook-case/products/custom-macbook-case-grassplat-greenery</td>\n",
       "      <td>1</td>\n",
       "      <td>True</td>\n",
       "      <td>cdn.shopify.com/s/files/1/1042/2862/t/94/assets/app.js</td>\n",
       "      <td>slickcaseofficial.com</td>\n",
       "      <td>False</td>\n",
       "      <td>False</td>\n",
       "      <td>False</td>\n",
       "    </tr>\n",
       "    <tr>\n",
       "      <th>27</th>\n",
       "      <td>https://cdn.shopify.com/s/assets/storefront/express_buttons-c5e5c7645d98c4cf4c1a29cdabc90ab45a62044dd11e47d8c671a71188cd89dc.js</td>\n",
       "      <td>2</td>\n",
       "      <td>https://slickcaseofficial.com/collections/custom-macbook-case/products/custom-macbook-case-grassplat-greenery</td>\n",
       "      <td>1</td>\n",
       "      <td>True</td>\n",
       "      <td>cdn.shopify.com/s/assets/storefront/express_buttons-c5e5c7645d98c4cf4c1a29cdabc90ab45a62044dd11e47d8c671a71188cd89dc.js</td>\n",
       "      <td>slickcaseofficial.com</td>\n",
       "      <td>False</td>\n",
       "      <td>False</td>\n",
       "      <td>False</td>\n",
       "    </tr>\n",
       "  </tbody>\n",
       "</table>\n",
       "</div>"
      ],
      "text/plain": [
       "                                                                                                                                url  \\\n",
       "20                                                                                    https://cdn.cquotient.com/js/v2/gretel.min.js   \n",
       "26                                               https://cdn.shopify.com/s/files/1/1042/2862/t/94/assets/app.js?9898202562766866050   \n",
       "27  https://cdn.shopify.com/s/assets/storefront/express_buttons-c5e5c7645d98c4cf4c1a29cdabc90ab45a62044dd11e47d8c671a71188cd89dc.js   \n",
       "\n",
       "    content_policy_type  \\\n",
       "20                    2   \n",
       "26                    2   \n",
       "27                    2   \n",
       "\n",
       "                                                                                                         site_url  \\\n",
       "20                  https://www.mackenzie-childs.com/patience-brewster-ruby-red-wine-girl-tea-towel/08-30943.html   \n",
       "26  https://slickcaseofficial.com/collections/custom-macbook-case/products/custom-macbook-case-grassplat-greenery   \n",
       "27  https://slickcaseofficial.com/collections/custom-macbook-case/products/custom-macbook-case-grassplat-greenery   \n",
       "\n",
       "    visit_id  is_third_party  \\\n",
       "20         4            True   \n",
       "26         1            True   \n",
       "27         1            True   \n",
       "\n",
       "                                                                                                                   base_url  \\\n",
       "20                                                                                    cdn.cquotient.com/js/v2/gretel.min.js   \n",
       "26                                                                   cdn.shopify.com/s/files/1/1042/2862/t/94/assets/app.js   \n",
       "27  cdn.shopify.com/s/assets/storefront/express_buttons-c5e5c7645d98c4cf4c1a29cdabc90ab45a62044dd11e47d8c671a71188cd89dc.js   \n",
       "\n",
       "               site_hostname  stock  social_proof  timer  \n",
       "20  www.mackenzie-childs.com  False         False  False  \n",
       "26     slickcaseofficial.com  False         False  False  \n",
       "27     slickcaseofficial.com  False         False  False  "
      ]
     },
     "execution_count": 43,
     "metadata": {},
     "output_type": "execute_result"
    }
   ],
   "source": [
    "all_adp_urls = timer_urls + soc_proof_urls + stock_urls\n",
    "\n",
    "odin_df = read_tp_requests(ODIN_DB_PATH)\n",
    "print \"Finished reading reqs from ODIN\", len(odin_df)\n",
    "webtap_df = read_tp_requests(WEBTAP_DB_PATH)\n",
    "print \"Finished reading reqs from WEBTAP\", len(webtap_df)\n",
    "\n",
    "# all_reqs[all_reqs.site_url.isin(site_urls)]\n",
    "df = pd.concat([odin_df, webtap_df])\n",
    "# we remove query, hash and the scheme from the URL\n",
    "df['base_url'] = df['url'].map(lambda x: x.split(\"?\")[0].split(\"#\")[0].split(\"://\")[-1])\n",
    "df['site_hostname'] = df['site_url'].map(lambda x: urlparse(x).hostname)\n",
    "df['stock'] = df['site_url'].map(lambda x: x in stock_urls)\n",
    "df['social_proof'] = df['site_url'].map(lambda x: x in soc_proof_urls)\n",
    "df['timer'] = df['site_url'].map(lambda x: x in timer_urls)\n",
    "df.to_pickle(\"tp_reqs.pickle\")\n",
    "df.head(3)"
   ]
  },
  {
   "cell_type": "code",
   "execution_count": 44,
   "metadata": {},
   "outputs": [
    {
     "name": "stdout",
     "output_type": "stream",
     "text": [
      "False    131091\n",
      "True       5220\n",
      "Name: stock, dtype: int64\n",
      "False    136183\n",
      "True        128\n",
      "Name: social_proof, dtype: int64\n",
      "False    130995\n",
      "True       5316\n",
      "Name: timer, dtype: int64\n"
     ]
    }
   ],
   "source": [
    "print df.stock.value_counts()\n",
    "print df.social_proof.value_counts()\n",
    "print df.timer.value_counts()"
   ]
  },
  {
   "cell_type": "code",
   "execution_count": 45,
   "metadata": {},
   "outputs": [],
   "source": [
    "soc_proof_tps = df[df.social_proof].groupby('base_url').\\\n",
    "    agg({'site_hostname': lambda x: len(set(x))}).reset_index()\n",
    "soc_proof_tps.rename(columns={\"site_hostname\": \"distinct_sites\"}, inplace=True)\n",
    "soc_proof_tps = soc_proof_tps[soc_proof_tps.distinct_sites >= 2]\n",
    "soc_proof_tps.sort_values(\"distinct_sites\", ascending=False, inplace=True)\n",
    "soc_proof_tps_prevalence = soc_proof_tps.set_index('base_url')['distinct_sites'].to_dict()\n",
    "\n"
   ]
  },
  {
   "cell_type": "code",
   "execution_count": 46,
   "metadata": {},
   "outputs": [],
   "source": [
    "non_soc_proof_tps = df[~df.social_proof].\\\n",
    "    groupby('base_url').agg({'site_hostname': lambda x: len(set(x))}).reset_index()\n",
    "non_soc_proof_tps.rename(columns={\"site_hostname\": \"distinct_sites\"}, inplace=True)\n",
    "non_soc_proof_tps_prevalence = non_soc_proof_tps.set_index('base_url')['distinct_sites'].to_dict()\n",
    "\n"
   ]
  },
  {
   "cell_type": "code",
   "execution_count": 48,
   "metadata": {},
   "outputs": [],
   "source": [
    "for base_url, prevalence in soc_proof_tps_prevalence.iteritems():\n",
    "    if prevalence < 2:\n",
    "        continue\n",
    "    if base_url not in non_soc_proof_tps_prevalence:\n",
    "        print base_url, \"only in soc proof sites\"\n",
    "        continue\n",
    "    if (prevalence // non_soc_proof_tps_prevalence[base_url]) > 2:\n",
    "        print base_url, \"twice more likely to be present in soc proof sites\""
   ]
  },
  {
   "cell_type": "code",
   "execution_count": 49,
   "metadata": {},
   "outputs": [
    {
     "data": {
      "text/html": [
       "<div>\n",
       "<style scoped>\n",
       "    .dataframe tbody tr th:only-of-type {\n",
       "        vertical-align: middle;\n",
       "    }\n",
       "\n",
       "    .dataframe tbody tr th {\n",
       "        vertical-align: top;\n",
       "    }\n",
       "\n",
       "    .dataframe thead th {\n",
       "        text-align: right;\n",
       "    }\n",
       "</style>\n",
       "<table border=\"1\" class=\"dataframe tex2jax_ignore\">\n",
       "  <thead>\n",
       "    <tr style=\"text-align: right;\">\n",
       "      <th></th>\n",
       "      <th>base_url</th>\n",
       "      <th>distinct_sites</th>\n",
       "    </tr>\n",
       "  </thead>\n",
       "  <tbody>\n",
       "  </tbody>\n",
       "</table>\n",
       "</div>"
      ],
      "text/plain": [
       "Empty DataFrame\n",
       "Columns: [base_url, distinct_sites]\n",
       "Index: []"
      ]
     },
     "execution_count": 49,
     "metadata": {},
     "output_type": "execute_result"
    }
   ],
   "source": [
    "soc_proof_tps"
   ]
  },
  {
   "cell_type": "code",
   "execution_count": null,
   "metadata": {},
   "outputs": [],
   "source": []
  }
 ],
 "metadata": {
  "kernelspec": {
   "display_name": "Python 2",
   "language": "python",
   "name": "python2"
  },
  "language_info": {
   "codemirror_mode": {
    "name": "ipython",
    "version": 2
   },
   "file_extension": ".py",
   "mimetype": "text/x-python",
   "name": "python",
   "nbconvert_exporter": "python",
   "pygments_lexer": "ipython2",
   "version": "2.7.15rc1"
  }
 },
 "nbformat": 4,
 "nbformat_minor": 2
}
